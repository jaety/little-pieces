{
 "cells": [
  {
   "cell_type": "markdown",
   "id": "conscious-stations",
   "metadata": {},
   "source": [
    "I've had an idea for a long time of a verbal interface to describing floor plans. I think the most leveraged version of building up the visuals for something like this would be to leverage a simple game toolkit. Let's try to quickly decide which one\n",
    "\n",
    "So I'm going to pick pygame"
   ]
  },
  {
   "cell_type": "code",
   "execution_count": null,
   "id": "miniature-privilege",
   "metadata": {},
   "outputs": [],
   "source": []
  }
 ],
 "metadata": {
  "kernelspec": {
   "display_name": "Python 3",
   "language": "python",
   "name": "python3"
  },
  "language_info": {
   "codemirror_mode": {
    "name": "ipython",
    "version": 3
   },
   "file_extension": ".py",
   "mimetype": "text/x-python",
   "name": "python",
   "nbconvert_exporter": "python",
   "pygments_lexer": "ipython3",
   "version": "3.9.2"
  }
 },
 "nbformat": 4,
 "nbformat_minor": 5
}
