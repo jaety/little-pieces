{
 "cells": [
  {
   "cell_type": "markdown",
   "id": "backed-import",
   "metadata": {},
   "source": [
    "I've been interested in math education for a while, but never done much with that interest beyond helping my kids with their homework. But there are often pictures in my head I've wanted to share about how I think about math that I've found difficult to figure out how to do. Last week, I stumbled across this project\n",
    "\n",
    "https://github.com/3b1b/manim\n",
    "\n",
    "and I wanted to give it a try to see if it could help.\n",
    "\n",
    "Sadly, I got caught up in installation hell trying to install the prereqs, because brew is out of date. So maybe I'll come back to this idea"
   ]
  },
  {
   "cell_type": "code",
   "execution_count": null,
   "id": "continental-player",
   "metadata": {},
   "outputs": [],
   "source": []
  }
 ],
 "metadata": {
  "kernelspec": {
   "display_name": "Python 3",
   "language": "python",
   "name": "python3"
  },
  "language_info": {
   "codemirror_mode": {
    "name": "ipython",
    "version": 3
   },
   "file_extension": ".py",
   "mimetype": "text/x-python",
   "name": "python",
   "nbconvert_exporter": "python",
   "pygments_lexer": "ipython3",
   "version": "3.9.2"
  }
 },
 "nbformat": 4,
 "nbformat_minor": 5
}
