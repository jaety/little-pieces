{
 "cells": [
  {
   "cell_type": "markdown",
   "id": "recorded-terry",
   "metadata": {},
   "source": [
    "I want to be able to sit down and try an image processing idea in 10 minutes\n",
    "\n",
    "```\n",
    "image_collection = ... # {image, roi, label}\n",
    "distraction_coll = ... # {image}\n",
    "\n",
    "train, test      = split(image_collection)\n",
    "avg_roi_size     = avg_roi_size_f(train)\n",
    "pos_samples      = sample(train) + sample(flipped(train))\n",
    "neg_samples      = sample(distraction_coll)\n",
    "\n",
    "model            = train_model(union(pos_samples, neg_samples))\n",
    "results          = fit(model, test)\n",
    "```\n",
    "\n",
    "It should be as simple as that, but it's made more complicated when you start needing to fill in the details, and much more so when you start trying to make the execution efficient by, for instance, distributing it & caching values"
   ]
  },
  {
   "cell_type": "markdown",
   "id": "hazardous-minimum",
   "metadata": {},
   "source": [
    "Keep it small. I have a list of filenames. I want to work with them, but don't want to load everything into memory or operate on all of them at the same time\n",
    "\n",
    "```\n",
    "image_coll = multiset(full_set, sample_set)\n",
    "\n",
    "def process_image(item):\n",
    "    im  = cv2.imread(item.image_fn)\n",
    "    box = box_read(item.box_fn)\n",
    "    roi = resample(im, box)\n",
    "    hist= hog(roi)\n",
    "    return {im, box, roi, hist}\n",
    "```"
   ]
  },
  {
   "cell_type": "code",
   "execution_count": null,
   "id": "exposed-cabinet",
   "metadata": {},
   "outputs": [],
   "source": []
  }
 ],
 "metadata": {
  "kernelspec": {
   "display_name": "Python 3",
   "language": "python",
   "name": "python3"
  },
  "language_info": {
   "codemirror_mode": {
    "name": "ipython",
    "version": 3
   },
   "file_extension": ".py",
   "mimetype": "text/x-python",
   "name": "python",
   "nbconvert_exporter": "python",
   "pygments_lexer": "ipython3",
   "version": "3.9.2"
  }
 },
 "nbformat": 4,
 "nbformat_minor": 5
}
