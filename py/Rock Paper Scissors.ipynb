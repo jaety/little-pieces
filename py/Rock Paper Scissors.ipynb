{
 "cells": [
  {
   "cell_type": "markdown",
   "metadata": {
    "nbpresent": {
     "id": "7aae4d35-de17-484c-989e-a8687ef9c7aa"
    }
   },
   "source": [
    "# Rock, Paper, Scissors or...\n",
    "\n",
    "## People can't do random\n",
    "\n",
    "The NY Times created [a Rock, Paper, Scissors bot](http://www.nytimes.com/interactive/science/rock-paper-scissors.html?_r=0). If you try it, chances are it'll win handily. This is because, no matter how hard you try, you're going to fall into patterns that the computer is going to be able to identify and then exploit.\n",
    "\n",
    "As the article notes, if you were capable of producing truly random throws, then on average you'd win about as much as you lose, but humans are really bad at acting truly randomly. \n",
    "\n",
    "For instance, what would you bet are the odds that in 100 rock/paper/scissors throws that a random bot would throw 4 in a row at some point? People I've asked vary wildly in their guesses, but almost none of them guessed as high as the true answer (92%). Even 5 in a row is likely to happen more than half the time. \n",
    "\n",
    "I haven't conducted the study, but I would bet that the percentage of humans who would throw 4 in a row when trying to be random would be really small. \n",
    "\n",
    "How to calculate the probability of a streak of length N after some number of throws? Read on..."
   ]
  },
  {
   "cell_type": "code",
   "execution_count": 43,
   "metadata": {
    "collapsed": true,
    "nbpresent": {
     "id": "03c04f15-10ed-4b01-81cf-a7b0525596e1"
    }
   },
   "outputs": [],
   "source": [
    "import numpy as np\n",
    "from numpy.linalg import matrix_power\n",
    "import matplotlib.pyplot as plt\n",
    "\n",
    "%matplotlib inline"
   ]
  },
  {
   "cell_type": "markdown",
   "metadata": {},
   "source": [
    "## How to compute the probabilities\n",
    "\n",
    "How do we compute the probability of 4 in a row in a stream of 100 throws? Here's one way:\n",
    "\n",
    "After each throw, the possible states we might be in are: a streak of length 1, a streak of length 2, a streak of length 3. If we ever get a streak of length 4, then we don't care what happens next, so we'll let the 4th state just be \"I've seen a streak of length 4 at some point already\". \n",
    "\n",
    "Given those 4 states, we can create the transition matrix between them, which has a simple structure: With probability 2/3, if we're at a streak of length 1,2 or 3, we'll throw something different and go back to a streak of length 1. Or with probability 1/3 we'll increase our streak length by 1. (And of course if we ever reach the fourth state, we just stay there. "
   ]
  },
  {
   "cell_type": "code",
   "execution_count": 49,
   "metadata": {
    "collapsed": false
   },
   "outputs": [
    {
     "data": {
      "text/plain": [
       "matrix([[ 0.66666667,  0.66666667,  0.66666667,  0.        ],\n",
       "        [ 0.33333333,  0.        ,  0.        ,  0.        ],\n",
       "        [ 0.        ,  0.33333333,  0.        ,  0.        ],\n",
       "        [ 0.        ,  0.        ,  0.33333333,  1.        ]])"
      ]
     },
     "execution_count": 49,
     "metadata": {},
     "output_type": "execute_result"
    }
   ],
   "source": [
    "def transition_matrix(streak_length):\n",
    "    \"\"\" TM[i,j] = Prob[transitioning to streak length i from streak length j]\"\"\"\n",
    "    tm = np.zeros((streak_length, streak_length))\n",
    "    tm[0,0:streak_length-1] = 2/3.0\n",
    "    tm[1:streak_length, 0:streak_length-1] = np.eye(streak_length-1) * 1/3.0\n",
    "    tm[streak_length-1, streak_length-1] = 1.0\n",
    "    return np.matrix(tm)\n",
    "\n",
    "tm = transition_matrix(4); tm"
   ]
  },
  {
   "cell_type": "markdown",
   "metadata": {},
   "source": [
    "After 1 throw, obviously we're in state 1, and so the vector [1,0,0,0]' represents the probabilities of being in the various states after that first toss.\n",
    "\n",
    "Then, if we multiply that vector by the transition matrix **tm**, the vector now represents the probability of being in each state after the second throw. "
   ]
  },
  {
   "cell_type": "code",
   "execution_count": 46,
   "metadata": {
    "collapsed": false
   },
   "outputs": [
    {
     "data": {
      "text/plain": [
       "matrix([[ 0.66666667],\n",
       "        [ 0.33333333],\n",
       "        [ 0.        ],\n",
       "        [ 0.        ]])"
      ]
     },
     "execution_count": 46,
     "metadata": {},
     "output_type": "execute_result"
    }
   ],
   "source": [
    "starting_vec = np.matrix([1,0,0,0]).transpose()\n",
    "tm * starting_vec"
   ]
  },
  {
   "cell_type": "markdown",
   "metadata": {},
   "source": [
    "To determine the probability after N throws, we just multiply that starting vector by the matrix N-1 times. "
   ]
  },
  {
   "cell_type": "code",
   "execution_count": 47,
   "metadata": {
    "collapsed": true
   },
   "outputs": [],
   "source": [
    "def prob_of_run(streak_length, num_throws):\n",
    "    starting_vec = np.zeros((streak_length,1))\n",
    "    starting_vec[0] = 1.0\n",
    "    tm_n = matrix_power(transition_matrix(streak_length), num_throws - 1)\n",
    "    return (tm_n * starting_vec)[streak_length-1, 0]"
   ]
  },
  {
   "cell_type": "markdown",
   "metadata": {},
   "source": [
    "and we can now calculate the probabilities for various streak lengths..."
   ]
  },
  {
   "cell_type": "code",
   "execution_count": 48,
   "metadata": {
    "collapsed": false
   },
   "outputs": [
    {
     "data": {
      "text/plain": [
       "[<matplotlib.lines.Line2D at 0x10d8ce890>]"
      ]
     },
     "execution_count": 48,
     "metadata": {},
     "output_type": "execute_result"
    },
    {
     "data": {
      "image/png": "[encoded data removed]",
      "text/plain": [
       "<matplotlib.figure.Figure at 0x10d7b26d0>"
      ]
     },
     "metadata": {},
     "output_type": "display_data"
    }
   ],
   "source": [
    "streak_lengths = range(2,10)\n",
    "num_throws = 100\n",
    "probs = [prob_of_run(i, num_throws) for i in streak_lengths]\n",
    "\n",
    "plt.plot(streak_lengths, probs, 'bx-')"
   ]
  }
 ],
 "metadata": {
  "anaconda-cloud": {},
  "kernelspec": {
   "display_name": "Python [conda root]",
   "language": "python",
   "name": "conda-root-py"
  },
  "language_info": {
   "codemirror_mode": {
    "name": "ipython",
    "version": 2
   },
   "file_extension": ".py",
   "mimetype": "text/x-python",
   "name": "python",
   "nbconvert_exporter": "python",
   "pygments_lexer": "ipython2",
   "version": "2.7.12"
  },
  "nbpresent": {
   "slides": {
    "1864adc1-dea3-4d0b-94bd-1a9a82ef030f": {
     "id": "1864adc1-dea3-4d0b-94bd-1a9a82ef030f",
     "prev": "aba35efe-10ac-4e92-9b45-8508678b8dd5",
     "regions": {
      "d0a2576b-eb7a-480b-af78-e391844de628": {
       "attrs": {
        "height": 0.8,
        "width": 0.8,
        "x": 0.1,
        "y": 0.1
       },
       "content": {
        "cell": "03c04f15-10ed-4b01-81cf-a7b0525596e1",
        "part": "whole"
       },
       "id": "d0a2576b-eb7a-480b-af78-e391844de628"
      }
     }
    },
    "52322e3a-7132-4f9e-8aad-16a079cc0b8d": {
     "id": "52322e3a-7132-4f9e-8aad-16a079cc0b8d",
     "prev": "1864adc1-dea3-4d0b-94bd-1a9a82ef030f",
     "regions": {
      "dfe6921b-5c3a-4f1f-ac0b-519db4adbfd3": {
       "attrs": {
        "height": 0.8,
        "width": 0.8,
        "x": 0.1,
        "y": 0.1
       },
       "content": {
        "cell": "4fb0adce-12b3-4045-8294-5a260dd3766e",
        "part": "whole"
       },
       "id": "dfe6921b-5c3a-4f1f-ac0b-519db4adbfd3"
      }
     }
    },
    "8a7fe347-736c-46a5-985f-b01092b5189d": {
     "id": "8a7fe347-736c-46a5-985f-b01092b5189d",
     "prev": "52322e3a-7132-4f9e-8aad-16a079cc0b8d",
     "regions": {
      "6fd22a32-caf9-4fad-9bcc-d0b15d180a43": {
       "attrs": {
        "height": 0.8,
        "width": 0.8,
        "x": 0.1,
        "y": 0.1
       },
       "content": {
        "cell": "2493604e-7bda-42b4-b300-d8ced9d93394",
        "part": "whole"
       },
       "id": "6fd22a32-caf9-4fad-9bcc-d0b15d180a43"
      }
     }
    },
    "aba35efe-10ac-4e92-9b45-8508678b8dd5": {
     "id": "aba35efe-10ac-4e92-9b45-8508678b8dd5",
     "prev": null,
     "regions": {
      "e0a4be96-01d0-45a2-9aca-761aede2d45f": {
       "attrs": {
        "height": 0.8,
        "width": 0.8,
        "x": 0.1,
        "y": 0.1
       },
       "content": {
        "cell": "7aae4d35-de17-484c-989e-a8687ef9c7aa",
        "part": "whole"
       },
       "id": "e0a4be96-01d0-45a2-9aca-761aede2d45f"
      }
     }
    }
   },
   "themes": {}
  }
 },
 "nbformat": 4,
 "nbformat_minor": 1
}
